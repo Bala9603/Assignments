{
 "cells": [
  {
   "cell_type": "markdown",
   "metadata": {},
   "source": [
    "## 1. Write a function to compute 5/0 and use try/except to catch the exceptions."
   ]
  },
  {
   "cell_type": "code",
   "execution_count": 2,
   "metadata": {},
   "outputs": [
    {
     "data": {
      "text/plain": [
       "'Division by zero gives infinity!'"
      ]
     },
     "execution_count": 2,
     "metadata": {},
     "output_type": "execute_result"
    }
   ],
   "source": [
    "# Function for Exception handling\n",
    "def Exce_hand():\n",
    "    try:\n",
    "        x = 5 / 0\n",
    "    except ZeroDivisionError:\n",
    "        return \"Division by zero gives infinity!\"\n",
    "Exce_hand()\n",
    "        "
   ]
  },
  {
   "cell_type": "markdown",
   "metadata": {},
   "source": [
    "### 2. Implement a Python program to generate all sentences where subject is in[\"Americans\", \"Indians\"] and verb is in [\"Play\", \"watch\"] and the object is in[\"Baseball\",\"cricket\"].\n",
    "#### Hint: Subject,Verb and Object should be declared in the program as shown below.\n",
    "    subjects=[\"Americans \",\"Indians\"]\n",
    "    verbs=[\"play\",\"watch\"]\n",
    "    objects=[\"Baseball\",\"Cricket\"]\n",
    "\n",
    "  #### Output should come as below:\n",
    "  \n",
    "      Americans play Baseball.\n",
    "      Americans play Cricket.\n",
    "      Americans watch Baseball.\n",
    "      Americans watch Cricket.\n",
    "      Indians play Baseball.\n",
    "      Indians play Cricket.\n",
    "      Indians watch Baseball.\n",
    "      Indians watch Cricket."
   ]
  },
  {
   "cell_type": "code",
   "execution_count": 6,
   "metadata": {},
   "outputs": [
    {
     "name": "stdout",
     "output_type": "stream",
     "text": [
      "Americans play Baseball\n",
      "Americans play Cricket\n",
      "Americans watch Baseball\n",
      "Americans watch Cricket\n",
      "Indians play Baseball\n",
      "Indians play Cricket\n",
      "Indians watch Baseball\n",
      "Indians watch Cricket\n"
     ]
    }
   ],
   "source": [
    "# Define variables\n",
    "subjects = [\"Americans\",\"Indians\"]\n",
    "verbs = [\"play\",\"watch\"]\n",
    "objects = [\"Baseball\",\"Cricket\"]\n",
    "\n",
    "# Store all the elements in one variable\n",
    "words = [s+\" \"+v+\" \"+o for s in subjects for v in verbs for o in objects]\n",
    "\n",
    "# Get the elements in variable and print elements in sentence form\n",
    "for i in words:\n",
    "    print(i)"
   ]
  }
 ],
 "metadata": {
  "kernelspec": {
   "display_name": "Python 3",
   "language": "python",
   "name": "python3"
  },
  "language_info": {
   "codemirror_mode": {
    "name": "ipython",
    "version": 3
   },
   "file_extension": ".py",
   "mimetype": "text/x-python",
   "name": "python",
   "nbconvert_exporter": "python",
   "pygments_lexer": "ipython3",
   "version": "3.8.3"
  }
 },
 "nbformat": 4,
 "nbformat_minor": 4
}
