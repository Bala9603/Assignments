{
 "cells": [
  {
   "cell_type": "markdown",
   "metadata": {},
   "source": [
    "1.1 Write a Python Program(with class concepts) to find the area of the triangle using the below formula.\n",
    "\n",
    "area = (s*(s-a)*(s-b)*(s-c)) ** 0.5 \n",
    "\n",
    "Function to take the length of thesides of triangle from user should be defined in the parent class and function to calculate the area should be defined in subclass."
   ]
  },
  {
   "cell_type": "code",
   "execution_count": 1,
   "metadata": {},
   "outputs": [
    {
     "name": "stdout",
     "output_type": "stream",
     "text": [
      "Enter a value :13\n",
      "Enter b value :15\n",
      "Enter c value :18\n",
      "Area of triangle : 95.917\n"
     ]
    }
   ],
   "source": [
    "# A class to take Polynomials of a Triangle\n",
    "class Poly:\n",
    "    def __init__(self,a,b,c):\n",
    "        self.a = float(a)\n",
    "        self.b = float(b)\n",
    "        self.c = float(c)\n",
    "a = float(input(\"Enter a value :\"))\n",
    "b = float(input(\"Enter b value :\"))\n",
    "c = float(input(\"Enter c value :\"))\n",
    "\n",
    "# A class to Calculate Area of Triangle\n",
    "class Triangle(Poly):\n",
    "    def __init__(self,a,b,c):\n",
    "        super().__init__(a,b,c)\n",
    "        \n",
    "    def get_area(self):\n",
    "        s = (a + b + c) / 2\n",
    "        return (s*(s-a)*(s-b)*(s-c)) ** 0.5        \n",
    "\n",
    "t = Triangle(a,b,c)\n",
    "print(\"Area of triangle : {:.3f}\".format(t.get_area()))\n"
   ]
  },
  {
   "cell_type": "markdown",
   "metadata": {},
   "source": [
    "1.2 Write a function filter_long_words() that takes a list of words and an integer n and returns the list of words that are longer than n"
   ]
  },
  {
   "cell_type": "code",
   "execution_count": 2,
   "metadata": {},
   "outputs": [
    {
     "name": "stdout",
     "output_type": "stream",
     "text": [
      "take input: bala\n",
      "Integer :1\n",
      "['bala']\n"
     ]
    }
   ],
   "source": [
    "def filter_long_words(word, number):\n",
    "\n",
    "    new_list = []\n",
    "\n",
    "    for i in range(len(word)):\n",
    "        if len(word[i]) > number:\n",
    "            new_list.append(word[i])\n",
    "\n",
    "    print (new_list)\n",
    "\n",
    "list1 = input(\"take input: \")\n",
    "\n",
    "list = list1.split(\",\")\n",
    "\n",
    "def main():\n",
    "    global list, integer1\n",
    "    integer = input(\"Integer :\")\n",
    "    integer1 = int(integer)\n",
    "    filter_long_words(list, integer1)\n",
    "\n",
    "main()\n"
   ]
  },
  {
   "cell_type": "markdown",
   "metadata": {},
   "source": [
    "2.1 Write a Python program using function concept that maps list of words into a list of integers representing the lengths of the corresponding words.\n",
    "\n",
    "Hint: If a list [ ab,cde,erty] is passed on to the python function output should come as [2,3,4]Here 2,3 and 4 are the lengths of the words in the list"
   ]
  },
  {
   "cell_type": "code",
   "execution_count": 47,
   "metadata": {},
   "outputs": [
    {
     "name": "stdout",
     "output_type": "stream",
     "text": [
      "Input :Enter List of Words : ab,cdf,erty\n",
      "Output :Length of the words is : [2, 3, 4]\n"
     ]
    }
   ],
   "source": [
    "# A function to convert list to integers using map() function\n",
    "def map_to_lengths_map(words):\n",
    "    return list(map(len, words))\n",
    "\n",
    "word_list = list(input(\"Input :Enter List of Words : \").split(','))\n",
    "\n",
    "words = [x.strip() for x in word_list]\n",
    "\n",
    "word_lengths = map_to_lengths_map(words)\n",
    "\n",
    "print(\"Output :Length of the words is :\",word_lengths)"
   ]
  },
  {
   "cell_type": "markdown",
   "metadata": {},
   "source": [
    "2.2 Write a Python function which takes a character (i.e. a string of length 1) and returns True if it is a vowel, False otherwise"
   ]
  },
  {
   "cell_type": "code",
   "execution_count": 3,
   "metadata": {},
   "outputs": [
    {
     "name": "stdout",
     "output_type": "stream",
     "text": [
      "Enter a Character :d\n",
      "False\n"
     ]
    }
   ],
   "source": [
    "def char(input_char):\n",
    "    return_value = ''\n",
    "    if (len(input_char) == 1):\n",
    "        vowels = ['a','e','i','o','u']\n",
    "        if (input_char.lower() in vowels):\n",
    "            return_value = True\n",
    "            #print(\"You entered character is\",input_char.upper(),\"it is vowel\")\n",
    "        else:\n",
    "            return_value = False\n",
    "            #print(\"You entered character is\",input_char.upper(),\"it is not a vowel\")\n",
    "    else:\n",
    "        print(\"Enter a single Character only!\")\n",
    "    return return_value\n",
    "    \n",
    "input_ch = input(\"Enter a Character :\")\n",
    "print(char(input_ch))"
   ]
  },
  {
   "cell_type": "code",
   "execution_count": null,
   "metadata": {},
   "outputs": [],
   "source": []
  }
 ],
 "metadata": {
  "kernelspec": {
   "display_name": "Python 3",
   "language": "python",
   "name": "python3"
  },
  "language_info": {
   "codemirror_mode": {
    "name": "ipython",
    "version": 3
   },
   "file_extension": ".py",
   "mimetype": "text/x-python",
   "name": "python",
   "nbconvert_exporter": "python",
   "pygments_lexer": "ipython3",
   "version": "3.7.7"
  }
 },
 "nbformat": 4,
 "nbformat_minor": 4
}
